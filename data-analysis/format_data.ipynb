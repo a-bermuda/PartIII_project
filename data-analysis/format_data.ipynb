{
 "cells": [
  {
   "cell_type": "code",
   "execution_count": 1,
   "id": "initial_id",
   "metadata": {
    "collapsed": true,
    "ExecuteTime": {
     "end_time": "2024-04-03T15:01:33.519906Z",
     "start_time": "2024-04-03T15:01:31.641105Z"
    }
   },
   "outputs": [],
   "source": [
    "import os\n",
    "import numpy as np\n",
    "import pandas as pd\n",
    "import matplotlib.pyplot as plt\n",
    "import math\n",
    "from scipy.optimize import curve_fit\n",
    "from statistics import mean\n",
    "import scipy.stats as stats\n",
    "import statistics\n",
    "import re"
   ]
  },
  {
   "cell_type": "code",
   "outputs": [],
   "source": [
    "def get_counts(df, time_step):\n",
    "    filtered = df[df[\"time_step\"] == time_step]\n",
    "    counts = filtered[\"molecule\"].value_counts().to_dict()\n",
    "    for k in molecules.keys():\n",
    "        if not k in counts:\n",
    "            counts[k] = 0.0\n",
    "    return counts\n",
    "\n",
    "def get_counts_df(df):\n",
    "    time_steps = df[\"time_step\"].unique().tolist()\n",
    "    rows = [get_counts(df, t) for t in time_steps]\n",
    "    return pd.DataFrame.from_dict(rows)\n",
    "\n",
    "def top_counts(df, time_step):\n",
    "    top_df = df[df[\"y\"] >= 15]\n",
    "    top_df.reset_index(drop=True, inplace=True)\n",
    "    filtered = top_df[top_df[\"time_step\"] == time_step]\n",
    "    top_counts = filtered[\"molecule\"].value_counts().to_dict()\n",
    "    for k in molecules.keys():\n",
    "        if not k in top_counts:\n",
    "            top_counts[k] = 0.0\n",
    "    return top_counts\n",
    "\n",
    "def get_top_counts(df):\n",
    "    top_df = df[df[\"y\"] >= 15]\n",
    "    top_df.reset_index(drop=True, inplace=True)\n",
    "    time_steps = top_df[\"time_step\"].unique().tolist()\n",
    "    rows = [get_counts(top_df, t) for t in time_steps]\n",
    "    return pd.DataFrame.from_dict(rows)\n",
    "\n",
    "def bottom_counts(df, time_step):\n",
    "    bottom_df = df[df[\"y\"] <= 5]\n",
    "    bottom_df.reset_index(drop=True, inplace=True)\n",
    "    filtered = bottom_df[bottom_df[\"time_step\"] == time_step]\n",
    "    bottom_counts = filtered[\"molecule\"].value_counts().to_dict()\n",
    "    for k in molecules.keys():\n",
    "        if not k in bottom_counts:\n",
    "            bottom_counts[k] = 0.0\n",
    "    return bottom_counts\n",
    "\n",
    "def get_bottom_counts(df):\n",
    "    bottom_df = df[df[\"y\"] <= 5]\n",
    "    bottom_df.reset_index(drop=True, inplace=True)\n",
    "    time_steps = bottom_df[\"time_step\"].unique().tolist()\n",
    "    rows = [get_counts(bottom_df, t) for t in time_steps]\n",
    "    return pd.DataFrame.from_dict(rows)\n",
    "\n",
    "def top_signal_transduction(df):\n",
    "    top_df = df[df[\"y\"] >= 15]\n",
    "    top_df_HFRR = top_df[top_df[\"molecule\"] == 15]\n",
    "    top_result_df = top_df_HFRR.groupby('species_id')['time_step'].agg(['min', 'max'])\n",
    "    top_result_df['signal transduction time'] = top_result_df['max'] - top_result_df['min']\n",
    "    # return top_result_df[['species_id', 'signal transduction time']]\n",
    "    return top_result_df\n",
    "\n",
    "def bottom_signal_transduction(df):\n",
    "    bottom_df = df[df[\"y\"] <= 5]\n",
    "    bottom_df_HFRR = bottom_df[bottom_df[\"molecule\"] == 15]\n",
    "    bottom_result_df = bottom_df_HFRR.groupby('species_id')['time_step'].agg(['min', 'max'])\n",
    "    bottom_result_df['signal transduction time'] = bottom_result_df['max'] - bottom_result_df['min']\n",
    "    return bottom_result_df\n",
    "\n",
    "\n",
    "def HFRR_signal_transduction(df):\n",
    "    df_HFRR = df[df[\"molecule\"] == 15]\n",
    "    result_df = df_HFRR.groupby('species_id')['time_step'].agg(['min', 'max'])\n",
    "    result_df['signal transduction time'] = result_df['max'] - result_df['min']\n",
    "    return result_df\n",
    "\n",
    "def FRR_signal_transduction(df):\n",
    "    df_FRR = df[df[\"molecule\"] == 16]\n",
    "    result_df = df_FRR.groupby('species_id')['time_step'].agg(['min', 'max'])\n",
    "    result_df['signal transduction time'] = result_df['max'] - result_df['min']\n",
    "    return result_df\n",
    "\n",
    "def get_theta(file_name):\n",
    "    theta = file.split('=')[1].split('_')[0]\n",
    "    return float(theta)\n",
    "\n",
    "\n",
    "molecules = {\n",
    "    1: \"vesicle_F\",\n",
    "    2: \"vesicle_F_top\",\n",
    "    3: \"vesicle_R\",\n",
    "    4: \"vesicle_R_top\",\n",
    "    5: \"vesicle_H\",\n",
    "    6: \"vesicle_H_top\",\n",
    "    7: \"fused_vesicle_F\",\n",
    "    8: \"fused_vesicle_R\",\n",
    "    9: \"fused_vesicle_H\",\n",
    "    10: \"F\",\n",
    "    11: \"H\",\n",
    "    12: \"R\",\n",
    "    13: \"RR\",\n",
    "    14: \"FH\",\n",
    "    15: \"FHRR\",\n",
    "    16: \"FRR\",\n",
    "    17: \"F_species\",\n",
    "    18: \"H_species\",\n",
    "    19: \"R_species\",\n",
    "    20: \"F-membrane-bound\"\n",
    "\n",
    "}"
   ],
   "metadata": {
    "collapsed": false,
    "ExecuteTime": {
     "end_time": "2024-04-03T15:01:33.527714Z",
     "start_time": "2024-04-03T15:01:33.519666Z"
    }
   },
   "id": "38d651d53a31d511",
   "execution_count": 2
  },
  {
   "cell_type": "code",
   "outputs": [
    {
     "ename": "Exception",
     "evalue": "Data Source is not selected",
     "output_type": "error",
     "traceback": [
      "\u001B[0;31m---------------------------------------------------------------------------\u001B[0m",
      "\u001B[0;31mException\u001B[0m                                 Traceback (most recent call last)",
      "Cell \u001B[0;32mIn[10], line 1\u001B[0m\n\u001B[0;32m----> 1\u001B[0m \u001B[38;5;28;01mraise\u001B[39;00m \u001B[38;5;167;01mException\u001B[39;00m(\u001B[38;5;28m__import__\u001B[39m(\u001B[38;5;124m'\u001B[39m\u001B[38;5;124mbase64\u001B[39m\u001B[38;5;124m'\u001B[39m)\u001B[38;5;241m.\u001B[39mb64decode(\u001B[38;5;124m'\u001B[39m\u001B[38;5;124mRGF0YSBTb3VyY2UgaXMgbm90IHNlbGVjdGVk\u001B[39m\u001B[38;5;124m'\u001B[39m)\u001B[38;5;241m.\u001B[39mdecode(\u001B[38;5;124m'\u001B[39m\u001B[38;5;124mutf-8\u001B[39m\u001B[38;5;124m'\u001B[39m))\n",
      "\u001B[0;31mException\u001B[0m: Data Source is not selected"
     ]
    }
   ],
   "source": [
    "%%sql\n"
   ],
   "metadata": {
    "collapsed": false,
    "SqlCellData": {
     "variableName$1": "df_sql"
    },
    "ExecuteTime": {
     "end_time": "2024-03-27T20:09:04.601398Z",
     "start_time": "2024-03-27T20:09:04.596269Z"
    }
   },
   "id": "854b057150e3bfc4",
   "execution_count": 10
  },
  {
   "cell_type": "code",
   "outputs": [],
   "source": [
    "%%sql\n"
   ],
   "metadata": {
    "collapsed": false,
    "SqlCellData": {
     "variableName$1": "df_sql1"
    }
   },
   "id": "5a917000e70c000f"
  },
  {
   "cell_type": "code",
   "outputs": [],
   "source": [
    "ITERATION = 1\n",
    "SRC_PATH = 'src'\n",
    "DATA_PATH = 'receptor_knock_out/'\n",
    "SAVE_PATH = f'receptor_knock_out/figures'\n",
    "FILENAME_PREFIX = \"20240324_symmetrybreaking_iteration=\""
   ],
   "metadata": {
    "collapsed": false,
    "ExecuteTime": {
     "end_time": "2024-04-03T15:02:02.936209Z",
     "start_time": "2024-04-03T15:02:02.930447Z"
    }
   },
   "id": "8775a569994ea84",
   "execution_count": 6
  },
  {
   "cell_type": "code",
   "outputs": [],
   "source": [
    "if not os.path.exists(SAVE_PATH):\n",
    "    os.makedirs(SAVE_PATH)"
   ],
   "metadata": {
    "collapsed": false,
    "ExecuteTime": {
     "end_time": "2024-04-03T15:02:03.349757Z",
     "start_time": "2024-04-03T15:02:03.347438Z"
    }
   },
   "id": "f51f935ec0c71ea5",
   "execution_count": 7
  },
  {
   "cell_type": "code",
   "outputs": [
    {
     "name": "stdout",
     "output_type": "stream",
     "text": [
      "['20240216_receptorKO.csv', 'all_positions-0.067.csv', 'all_positions-0.067test.csv', 'receptor_KO.csv']\n"
     ]
    }
   ],
   "source": [
    "data_files = [f for f in os.listdir(DATA_PATH) if f.endswith('.csv')]\n",
    "n_data_files = len(data_files)\n",
    "\n",
    "thetas = []\n",
    "timeseries = []\n",
    "list.sort(data_files)\n",
    "print(data_files)"
   ],
   "metadata": {
    "collapsed": false,
    "ExecuteTime": {
     "end_time": "2024-04-03T15:02:03.813700Z",
     "start_time": "2024-04-03T15:02:03.810580Z"
    }
   },
   "id": "8728e51cc7cab07a",
   "execution_count": 8
  },
  {
   "cell_type": "code",
   "outputs": [
    {
     "name": "stdout",
     "output_type": "stream",
     "text": [
      "1\n",
      "10\n",
      "2\n",
      "3\n",
      "4\n",
      "5\n",
      "6\n",
      "7\n",
      "8\n",
      "9\n"
     ]
    }
   ],
   "source": [
    "for file in data_files:\n",
    "    label = re.sub(r'0.000005_symmetrybreaking_iteration=', '', file)\n",
    "    label = re.sub(r'.csv', '', label)\n",
    "    print(label)"
   ],
   "metadata": {
    "collapsed": false,
    "ExecuteTime": {
     "end_time": "2024-04-02T14:07:46.518049Z",
     "start_time": "2024-04-02T14:07:46.513083Z"
    }
   },
   "id": "b29bbfb62c4e3c71",
   "execution_count": 38
  },
  {
   "cell_type": "code",
   "outputs": [
    {
     "name": "stdout",
     "output_type": "stream",
     "text": [
      "[INFO] Processing 0.000005_symmetrybreaking_iteration=1.csv\n",
      "[INFO] Processing 0.000005_symmetrybreaking_iteration=10.csv\n",
      "[INFO] Processing 0.000005_symmetrybreaking_iteration=2.csv\n",
      "[INFO] Processing 0.000005_symmetrybreaking_iteration=3.csv\n",
      "[INFO] Processing 0.000005_symmetrybreaking_iteration=4.csv\n",
      "[INFO] Processing 0.000005_symmetrybreaking_iteration=5.csv\n",
      "[INFO] Processing 0.000005_symmetrybreaking_iteration=6.csv\n",
      "[INFO] Processing 0.000005_symmetrybreaking_iteration=7.csv\n",
      "[INFO] Processing 0.000005_symmetrybreaking_iteration=8.csv\n",
      "[INFO] Processing 0.000005_symmetrybreaking_iteration=9.csv\n",
      "[INFO] DONE!\n"
     ]
    }
   ],
   "source": [
    "transduction_dfs = []\n",
    "plots = []\n",
    "\n",
    "for file in data_files:\n",
    "    print(f\"[INFO] Processing {file}\")\n",
    "    data_df = pd.read_csv(f\"{DATA_PATH}/{file}\", sep=\" \", header=None, names=[\"time_step\", \"molecule\", \"state\", \"x\", \"y\", \"species_id\"])\n",
    "\n",
    "    # label = re.sub(r'0.000005_symmetrybreaking_iteration=', '', file)\n",
    "    # label = re.sub(r'.csv', '', label)\n",
    "    # label = re.sub(r'20240315_symmetrybreaing_iteration=', '', file)\n",
    "    # label = re.sub(r'.csv', '', label)\n",
    "\n",
    "    HFRR_transduction_df = HFRR_signal_transduction(data_df)\n",
    "    FRR_transduction_df = FRR_signal_transduction(data_df)\n",
    "    #label = re.sub(r'20240228_HSPGfunctiontest_', '', file)\n",
    "    #label = re.sub(r'_iteration-\\d+.csv', '', label)\n",
    "\n",
    "    HFRR_transduction_df.to_csv(f\"/Users/aimee/Desktop/R_000005_sym/transduction_data/HFRR_20240204_script_iteration={label}.csv\")\n",
    "    #FRR_transduction_df.to_csv(f\"output_HSPG_decay/transduction_data/FRRdecay={label}/FRR_HSPGdecay={label}_iteration10.csv\")\n",
    "    #FRR_transduction_df.to_csv(f\"output/csv_files/iteration{ITERATION}/transduction_data/FRR_transduction_{label}_iteration{ITERATION}.csv\")\n",
    "\n",
    "    data_counts = get_counts_df(data_df)\n",
    "    data_counts = data_counts.sort_index(axis=1)\n",
    "    cell1_counts = get_top_counts(data_df)\n",
    "    cell1_counts = cell1_counts.sort_index(axis=1)\n",
    "    cell2_counts = get_bottom_counts(data_df)\n",
    "    cell2_counts = cell2_counts.sort_index(axis=1)\n",
    "    timesteps = data_df[\"time_step\"].unique() / 10\n",
    "    timesteps = pd.DataFrame(timesteps, columns=[\"timestep\"])\n",
    "\n",
    "    plots = pd.concat([timesteps, data_counts, cell1_counts, cell2_counts], axis=1)\n",
    "    plots.to_csv(f\"/Users/aimee/Desktop/R_000005_sym/plots_data/symmetry_iteration{label}.csv\")\n",
    "    #plots.to_csv(f\"output/csv_files/iteration{ITERATION}/plots_data/plots_{label}_iteration{ITERATION}.csv\")\n",
    "\n",
    "print(\"[INFO] DONE!\")"
   ],
   "metadata": {
    "collapsed": false,
    "ExecuteTime": {
     "end_time": "2024-04-02T14:14:41.878477Z",
     "start_time": "2024-04-02T14:07:48.799595Z"
    }
   },
   "id": "b15e2704abc1af00",
   "execution_count": 39
  },
  {
   "cell_type": "markdown",
   "source": [
    "the output of the plots dataframe is 60 columns. the first 1-20 columns are molecules 1-20 in the whole simulation. the second 1-20 columns are in cell 1, and the third set in cell2. IMPORTANT. the columns have repeating names, so when you get to plotting stuff, you probably need to change the names. "
   ],
   "metadata": {
    "collapsed": false
   },
   "id": "c0e7b888e38385ca"
  },
  {
   "cell_type": "code",
   "outputs": [],
   "source": [
    "data_df = pd.read_csv(f\"{DATA_PATH}/receptor_KO.csv\", sep=\" \", header=None, names=[\"time_step\", \"molecule\", \"state\", \"x\", \"y\", \"species_id\"], on_bad_lines='skip')"
   ],
   "metadata": {
    "collapsed": false,
    "ExecuteTime": {
     "end_time": "2024-04-03T15:08:24.160935Z",
     "start_time": "2024-04-03T15:08:22.268802Z"
    }
   },
   "id": "b0412662dc0ef78f",
   "execution_count": 13
  },
  {
   "cell_type": "code",
   "outputs": [],
   "source": [],
   "metadata": {
    "collapsed": false
   },
   "id": "bb36212932a0b7cf"
  }
 ],
 "metadata": {
  "kernelspec": {
   "display_name": "Python 3",
   "language": "python",
   "name": "python3"
  },
  "language_info": {
   "codemirror_mode": {
    "name": "ipython",
    "version": 2
   },
   "file_extension": ".py",
   "mimetype": "text/x-python",
   "name": "python",
   "nbconvert_exporter": "python",
   "pygments_lexer": "ipython2",
   "version": "2.7.6"
  }
 },
 "nbformat": 4,
 "nbformat_minor": 5
}
